{
  "nbformat": 4,
  "nbformat_minor": 0,
  "metadata": {
    "colab": {
      "provenance": [],
      "include_colab_link": true
    },
    "kernelspec": {
      "name": "python3",
      "display_name": "Python 3"
    },
    "language_info": {
      "name": "python"
    }
  },
  "cells": [
    {
      "cell_type": "markdown",
      "metadata": {
        "id": "view-in-github",
        "colab_type": "text"
      },
      "source": [
        "<a href=\"https://colab.research.google.com/github/kiera-dev/pokedb/blob/main/PokeSQL.ipynb\" target=\"_parent\"><img src=\"https://colab.research.google.com/assets/colab-badge.svg\" alt=\"Open In Colab\"/></a>"
      ]
    },
    {
      "cell_type": "code",
      "execution_count": 1,
      "metadata": {
        "id": "tzXr9XClezpv"
      },
      "outputs": [],
      "source": [
        "%%capture\n",
        "!pip install duckdb requests pokebase"
      ]
    },
    {
      "cell_type": "code",
      "source": [
        "import duckdb\n",
        "import json\n",
        "import pandas as pd\n",
        "import pokebase as pb\n",
        "\n",
        "from dataclasses import asdict, dataclass, field\n",
        "from typing import List\n",
        "\n",
        "# POKEDEX_LIMIT = 151\n",
        "POKEDEX_LIMIT = 30\n",
        "\n",
        "@dataclass\n",
        "class Pokemon:\n",
        "    \"\"\"Class representing a Pokedex entry for a given Pokemon.\"\"\"\n",
        "    id: int\n",
        "    name: str\n",
        "    height: int\n",
        "    weight: int\n",
        "    abilities: List[str] = field(default_factory=list)\n",
        "    moves: List[str] = field(default_factory=list)\n",
        "    stats: List[dict] = field(default_factory=list)\n",
        "    types: List[str] = field(default_factory=list)\n",
        "\n",
        "    def to_dict(self):\n",
        "      return asdict(self)\n",
        "\n",
        "    def to_json(self):\n",
        "      return json.dumps(asdict(self))\n",
        "\n",
        "# Populate the Pokedex in DuckDB\n",
        "pokedex = []\n",
        "for pokedex_num in range(1, POKEDEX_LIMIT):\n",
        "  pokemon_metadata = pb.pokemon(pokedex_num)\n",
        "  abilities = [x.ability.name for x in pokemon_metadata.abilities]\n",
        "  moves = [x.move.name for x in pokemon_metadata.moves]\n",
        "  types = [x.type.name for x in pokemon_metadata.types]\n",
        "  stats = []\n",
        "  for stat in pokemon_metadata.stats:\n",
        "    stats.append({stat.stat.name: stat.base_stat})\n",
        "\n",
        "  pokemon = Pokemon(\n",
        "      id=pokemon_metadata.id,\n",
        "      name=pokemon_metadata.name,\n",
        "      height=pokemon_metadata.height,\n",
        "      weight=pokemon_metadata.weight,\n",
        "      abilities=abilities,\n",
        "      moves=moves,\n",
        "      stats=stats,\n",
        "      types=types,\n",
        "  )\n",
        "  pokedex.append(pokemon.to_dict())\n",
        "\n",
        "pokedex_df = pd.DataFrame(pokedex)"
      ],
      "metadata": {
        "id": "yzHq2PPbfGEg"
      },
      "execution_count": 4,
      "outputs": []
    },
    {
      "cell_type": "code",
      "source": [
        "duckdb.sql(\"SELECT * FROM pokedex_df WHERE 'poison' = ANY(types)\")"
      ],
      "metadata": {
        "colab": {
          "base_uri": "https://localhost:8080/"
        },
        "id": "CJXeqM_Z4JdV",
        "outputId": "b12dd9c5-edc5-4a0a-a2e1-c904ebe026ac"
      },
      "execution_count": 18,
      "outputs": [
        {
          "output_type": "execute_result",
          "data": {
            "text/plain": [
              "┌───────┬───────────┬────────┬────────┬───┬──────────────────────┬──────────────────────┬─────────────────┐\n",
              "│  id   │   name    │ height │ weight │ … │        moves         │        stats         │      types      │\n",
              "│ int64 │  varchar  │ int64  │ int64  │   │      varchar[]       │ map(varchar, integ…  │    varchar[]    │\n",
              "├───────┼───────────┼────────┼────────┼───┼──────────────────────┼──────────────────────┼─────────────────┤\n",
              "│     1 │ bulbasaur │      7 │     69 │ … │ [razor-wind, sword…  │ [{hp=45}, {attack=…  │ [grass, poison] │\n",
              "│     2 │ ivysaur   │     10 │    130 │ … │ [swords-dance, cut…  │ [{hp=60}, {attack=…  │ [grass, poison] │\n",
              "│     3 │ venusaur  │     20 │   1000 │ … │ [swords-dance, cut…  │ [{hp=80}, {attack=…  │ [grass, poison] │\n",
              "│    13 │ weedle    │      3 │     32 │ … │ [poison-sting, str…  │ [{hp=40}, {attack=…  │ [bug, poison]   │\n",
              "│    14 │ kakuna    │      6 │    100 │ … │ [string-shot, hard…  │ [{hp=45}, {attack=…  │ [bug, poison]   │\n",
              "│    15 │ beedrill  │     10 │    295 │ … │ [swords-dance, cut…  │ [{hp=65}, {attack=…  │ [bug, poison]   │\n",
              "│    23 │ ekans     │     20 │     69 │ … │ [bind, slam, headb…  │ [{hp=35}, {attack=…  │ [poison]        │\n",
              "│    24 │ arbok     │     35 │    650 │ … │ [bind, slam, headb…  │ [{hp=60}, {attack=…  │ [poison]        │\n",
              "│    29 │ nidoran-f │      4 │     70 │ … │ [scratch, cut, dou…  │ [{hp=55}, {attack=…  │ [poison]        │\n",
              "├───────┴───────────┴────────┴────────┴───┴──────────────────────┴──────────────────────┴─────────────────┤\n",
              "│ 9 rows                                                                              8 columns (7 shown) │\n",
              "└─────────────────────────────────────────────────────────────────────────────────────────────────────────┘"
            ]
          },
          "metadata": {},
          "execution_count": 18
        }
      ]
    }
  ]
}