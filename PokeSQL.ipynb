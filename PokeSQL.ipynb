{
  "nbformat": 4,
  "nbformat_minor": 0,
  "metadata": {
    "colab": {
      "provenance": [],
      "include_colab_link": true
    },
    "kernelspec": {
      "name": "python3",
      "display_name": "Python 3"
    },
    "language_info": {
      "name": "python"
    }
  },
  "cells": [
    {
      "cell_type": "markdown",
      "metadata": {
        "id": "view-in-github",
        "colab_type": "text"
      },
      "source": [
        "<a href=\"https://colab.research.google.com/github/kiera-dev/pokedb/blob/main/PokeSQL.ipynb\" target=\"_parent\"><img src=\"https://colab.research.google.com/assets/colab-badge.svg\" alt=\"Open In Colab\"/></a>"
      ]
    },
    {
      "cell_type": "code",
      "execution_count": 1,
      "metadata": {
        "id": "tzXr9XClezpv"
      },
      "outputs": [],
      "source": [
        "%%capture\n",
        "!pip install duckdb requests pokebase"
      ]
    },
    {
      "cell_type": "code",
      "source": [
        "import duckdb\n",
        "import json\n",
        "import pandas as pd\n",
        "import pokebase as pb\n",
        "\n",
        "from dataclasses import asdict, dataclass, field\n",
        "from typing import List\n",
        "\n",
        "POKEDEX_LIMIT = 152\n",
        "\n",
        "@dataclass\n",
        "class Pokemon:\n",
        "    \"\"\"Class representing a Pokedex entry for a given Pokemon.\"\"\"\n",
        "    id: int\n",
        "    name: str\n",
        "    height: int\n",
        "    weight: int\n",
        "    hp: int\n",
        "    attack: int\n",
        "    defense: int\n",
        "    special_attack: int\n",
        "    special_defense: int\n",
        "    speed: int\n",
        "    weight: int\n",
        "    abilities: List[str] = field(default_factory=list)\n",
        "    moves: List[str] = field(default_factory=list)\n",
        "    types: List[str] = field(default_factory=list)\n",
        "\n",
        "    def to_dict(self):\n",
        "      return asdict(self)\n",
        "\n",
        "    def to_json(self):\n",
        "      return json.dumps(asdict(self))\n",
        "\n",
        "# Populate the Pokedex in DuckDB\n",
        "pokedex = []\n",
        "for pokedex_num in range(1, POKEDEX_LIMIT):\n",
        "  pokemon_metadata = pb.pokemon(pokedex_num)\n",
        "  abilities = [x.ability.name for x in pokemon_metadata.abilities]\n",
        "  moves = [x.move.name for x in pokemon_metadata.moves]\n",
        "  types = [x.type.name for x in pokemon_metadata.types]\n",
        "  stats = {}\n",
        "  for stat in pokemon_metadata.stats:\n",
        "    # stats.append({stat.stat.name: stat.base_stat})\n",
        "    stats[stat.stat.name] = stat.base_stat\n",
        "\n",
        "  pokemon = Pokemon(\n",
        "      id=pokemon_metadata.id,\n",
        "      name=pokemon_metadata.name,\n",
        "      height=pokemon_metadata.height,\n",
        "      weight=pokemon_metadata.weight,\n",
        "      hp=stats.get(\"hp\"),\n",
        "      attack=stats.get(\"attack\"),\n",
        "      defense=stats.get(\"defense\"),\n",
        "      special_attack=stats.get(\"special-attack\"),\n",
        "      special_defense=stats.get(\"special-defense\"),\n",
        "      speed=stats.get(\"speed\"),\n",
        "      abilities=abilities,\n",
        "      moves=moves,\n",
        "      types=types,\n",
        "  )\n",
        "  pokedex.append(pokemon.to_dict())\n",
        "\n",
        "pokedex_df = pd.DataFrame(pokedex)"
      ],
      "metadata": {
        "id": "yzHq2PPbfGEg"
      },
      "execution_count": 2,
      "outputs": []
    },
    {
      "cell_type": "code",
      "source": [
        "duckdb.sql(\"SELECT * FROM pokedex_df\")"
      ],
      "metadata": {
        "colab": {
          "base_uri": "https://localhost:8080/"
        },
        "id": "CJXeqM_Z4JdV",
        "outputId": "bcbab26a-e51b-4200-d511-902ed55882c9"
      },
      "execution_count": 3,
      "outputs": [
        {
          "output_type": "execute_result",
          "data": {
            "text/plain": [
              "┌───────┬────────────┬────────┬────────┬───┬───────┬──────────────────────┬──────────────────────┬────────────────────┐\n",
              "│  id   │    name    │ height │ weight │ … │ speed │      abilities       │        moves         │       types        │\n",
              "│ int64 │  varchar   │ int64  │ int64  │   │ int64 │      varchar[]       │      varchar[]       │     varchar[]      │\n",
              "├───────┼────────────┼────────┼────────┼───┼───────┼──────────────────────┼──────────────────────┼────────────────────┤\n",
              "│     1 │ bulbasaur  │      7 │     69 │ … │    45 │ [overgrow, chlorop…  │ [razor-wind, sword…  │ [grass, poison]    │\n",
              "│     2 │ ivysaur    │     10 │    130 │ … │    60 │ [overgrow, chlorop…  │ [swords-dance, cut…  │ [grass, poison]    │\n",
              "│     3 │ venusaur   │     20 │   1000 │ … │    80 │ [overgrow, chlorop…  │ [swords-dance, cut…  │ [grass, poison]    │\n",
              "│     4 │ charmander │      6 │     85 │ … │    65 │ [blaze, solar-power] │ [mega-punch, fire-…  │ [fire]             │\n",
              "│     5 │ charmeleon │     11 │    190 │ … │    80 │ [blaze, solar-power] │ [mega-punch, fire-…  │ [fire]             │\n",
              "│     6 │ charizard  │     17 │    905 │ … │   100 │ [blaze, solar-power] │ [mega-punch, fire-…  │ [fire, flying]     │\n",
              "│     7 │ squirtle   │      5 │     90 │ … │    43 │ [torrent, rain-dish] │ [mega-punch, ice-p…  │ [water]            │\n",
              "│     8 │ wartortle  │     10 │    225 │ … │    58 │ [torrent, rain-dish] │ [mega-punch, ice-p…  │ [water]            │\n",
              "│     9 │ blastoise  │     16 │    855 │ … │    78 │ [torrent, rain-dish] │ [mega-punch, ice-p…  │ [water]            │\n",
              "│    10 │ caterpie   │      3 │     29 │ … │    45 │ [shield-dust, run-…  │ [tackle, string-sh…  │ [bug]              │\n",
              "│     · │    ·       │      · │      · │ · │     · │          ·           │          ·           │   ·                │\n",
              "│     · │    ·       │      · │      · │ · │     · │          ·           │          ·           │   ·                │\n",
              "│     · │    ·       │      · │      · │ · │     · │          ·           │          ·           │   ·                │\n",
              "│   142 │ aerodactyl │     18 │    590 │ … │   130 │ [rock-head, pressu…  │ [razor-wind, wing-…  │ [rock, flying]     │\n",
              "│   143 │ snorlax    │     21 │   4600 │ … │    30 │ [immunity, thick-f…  │ [mega-punch, pay-d…  │ [normal]           │\n",
              "│   144 │ articuno   │     17 │    554 │ … │    85 │ [pressure, snow-cl…  │ [razor-wind, gust,…  │ [ice, flying]      │\n",
              "│   145 │ zapdos     │     16 │    526 │ … │   100 │ [pressure, static]   │ [razor-wind, whirl…  │ [electric, flying] │\n",
              "│   146 │ moltres    │     20 │    600 │ … │    90 │ [pressure, flame-b…  │ [razor-wind, gust,…  │ [fire, flying]     │\n",
              "│   147 │ dratini    │     18 │     33 │ … │    50 │ [shed-skin, marvel…  │ [bind, slam, headb…  │ [dragon]           │\n",
              "│   148 │ dragonair  │     40 │    165 │ … │    70 │ [shed-skin, marvel…  │ [bind, slam, headb…  │ [dragon]           │\n",
              "│   149 │ dragonite  │     22 │   2100 │ … │    80 │ [inner-focus, mult…  │ [mega-punch, fire-…  │ [dragon, flying]   │\n",
              "│   150 │ mewtwo     │     20 │   1220 │ … │   130 │ [pressure, unnerve]  │ [mega-punch, pay-d…  │ [psychic]          │\n",
              "│   151 │ mew        │      4 │     40 │ … │   100 │ [synchronize]        │ [pound, mega-punch…  │ [psychic]          │\n",
              "├───────┴────────────┴────────┴────────┴───┴───────┴──────────────────────┴──────────────────────┴────────────────────┤\n",
              "│ 151 rows (20 shown)                                                                            13 columns (8 shown) │\n",
              "└─────────────────────────────────────────────────────────────────────────────────────────────────────────────────────┘"
            ]
          },
          "metadata": {},
          "execution_count": 3
        }
      ]
    },
    {
      "cell_type": "code",
      "source": [
        "duckdb.sql(\"SELECT name, hp FROM pokedex_df ORDER BY hp DESC\")"
      ],
      "metadata": {
        "colab": {
          "base_uri": "https://localhost:8080/"
        },
        "id": "6NEAxQebakq-",
        "outputId": "c143cd72-de12-4e81-db2c-d911fafb10fb"
      },
      "execution_count": 4,
      "outputs": [
        {
          "output_type": "execute_result",
          "data": {
            "text/plain": [
              "┌────────────┬───────┐\n",
              "│    name    │  hp   │\n",
              "│  varchar   │ int64 │\n",
              "├────────────┼───────┤\n",
              "│ chansey    │   250 │\n",
              "│ snorlax    │   160 │\n",
              "│ wigglytuff │   140 │\n",
              "│ lapras     │   130 │\n",
              "│ vaporeon   │   130 │\n",
              "│ jigglypuff │   115 │\n",
              "│ mewtwo     │   106 │\n",
              "│ muk        │   105 │\n",
              "│ rhydon     │   105 │\n",
              "│ kangaskhan │   105 │\n",
              "│    ·       │     · │\n",
              "│    ·       │     · │\n",
              "│    ·       │     · │\n",
              "│ shellder   │    30 │\n",
              "│ gastly     │    30 │\n",
              "│ krabby     │    30 │\n",
              "│ horsea     │    30 │\n",
              "│ staryu     │    30 │\n",
              "│ kabuto     │    30 │\n",
              "│ abra       │    25 │\n",
              "│ magnemite  │    25 │\n",
              "│ magikarp   │    20 │\n",
              "│ diglett    │    10 │\n",
              "├────────────┴───────┤\n",
              "│      151 rows      │\n",
              "│     (20 shown)     │\n",
              "└────────────────────┘"
            ]
          },
          "metadata": {},
          "execution_count": 4
        }
      ]
    }
  ]
}